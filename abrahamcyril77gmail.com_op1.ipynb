{
 "cells": [
  {
   "cell_type": "code",
   "execution_count": 6,
   "metadata": {},
   "outputs": [
    {
     "name": "stdout",
     "output_type": "stream",
     "text": [
      "enter the no.6\n",
      "6 x 1 = 6\n",
      "6 x 2 = 12\n",
      "6 x 3 = 18\n",
      "6 x 4 = 24\n",
      "6 x 5 = 30\n",
      "6 x 6 = 36\n",
      "6 x 7 = 42\n",
      "6 x 8 = 48\n",
      "6 x 9 = 54\n",
      "6 x 10 = 60\n"
     ]
    }
   ],
   "source": [
    "#1.Table of any number\n",
    "n=int(input(\"enter the no.\"))\n",
    "for i in range(1,11):\n",
    "    print(n,'x',i,'=',n*i)"
   ]
  },
  {
   "cell_type": "code",
   "execution_count": 7,
   "metadata": {},
   "outputs": [
    {
     "name": "stdout",
     "output_type": "stream",
     "text": [
      "The twin prime numbers are:\n",
      "3 5\n",
      "5 7\n",
      "11 13\n",
      "17 19\n",
      "29 31\n",
      "41 43\n",
      "59 61\n",
      "71 73\n",
      "101 103\n",
      "107 109\n",
      "137 139\n",
      "149 151\n",
      "179 181\n",
      "191 193\n",
      "197 199\n",
      "227 229\n",
      "239 241\n",
      "269 271\n",
      "281 283\n",
      "311 313\n",
      "347 349\n",
      "419 421\n",
      "431 433\n",
      "461 463\n",
      "521 523\n",
      "569 571\n",
      "599 601\n",
      "617 619\n",
      "641 643\n",
      "659 661\n",
      "809 811\n",
      "821 823\n",
      "827 829\n",
      "857 859\n",
      "881 883\n"
     ]
    }
   ],
   "source": [
    "#2.Twin Prime numbers\n",
    "def prime_no(l,u):\n",
    "    lis=[]\n",
    "    for i in range(l,u+1):\n",
    "         if i>1:\n",
    "                for j in range(2,i):\n",
    "                    if i%j==0:\n",
    "                        break\n",
    "                else:\n",
    "                    lis.append(i)\n",
    "    return lis\n",
    "                    \n",
    "                \n",
    "def odd_no(lis):\n",
    "    lis2=[]\n",
    "    for i in lis:\n",
    "        if i%2==1:\n",
    "            lis2.append(i)\n",
    "    return lis2\n",
    "           \n",
    "x=prime_no(1,1000)\n",
    "y=odd_no(x)\n",
    "print('The twin prime numbers are:')\n",
    "for i in range(len(y)-1):\n",
    "    a=y[i]\n",
    "    b=y[i+1]\n",
    "    if b-a==2:\n",
    "        print(a,b)\n",
    "        \n",
    "    \n",
    "        \n",
    "    \n",
    "            \n",
    "        \n",
    "        "
   ]
  },
  {
   "cell_type": "code",
   "execution_count": 8,
   "metadata": {},
   "outputs": [
    {
     "name": "stdout",
     "output_type": "stream",
     "text": [
      "enter the number:36\n",
      "[2, 2, 3, 3]\n"
     ]
    }
   ],
   "source": [
    "#3.Prime factors of a number\n",
    "x=int(input(\"enter the number:\"))\n",
    "l=[]\n",
    "for i in range(2,x+1,1):\n",
    "    while x%i==0:\n",
    "        l.append(i)\n",
    "        x=x/i;\n",
    "print(l)"
   ]
  },
  {
   "cell_type": "code",
   "execution_count": 17,
   "metadata": {},
   "outputs": [],
   "source": [
    "#4.1 Permutation\n",
    "def p(n,r):\n",
    "    def factorial(n):\n",
    "        fact=1\n",
    "        if n==0:\n",
    "            return 1\n",
    "        for i in range(1,n+1):\n",
    "            fact=fact*i\n",
    "        return fact\n",
    "    x=factorial(n)\n",
    "    y=factorial(n-r)\n",
    "    return x/y"
   ]
  },
  {
   "cell_type": "code",
   "execution_count": 18,
   "metadata": {},
   "outputs": [
    {
     "data": {
      "text/plain": [
       "604800.0"
      ]
     },
     "execution_count": 18,
     "metadata": {},
     "output_type": "execute_result"
    }
   ],
   "source": [
    "p(10,7)"
   ]
  },
  {
   "cell_type": "code",
   "execution_count": 19,
   "metadata": {},
   "outputs": [],
   "source": [
    "#4.2 Combination\n",
    "def c(n,r):\n",
    "    def factorial(n):\n",
    "        fact=1\n",
    "        if n==0:\n",
    "            return 1\n",
    "        for i in range(1,n+1):\n",
    "            fact=fact*i\n",
    "        return fact\n",
    "    x=factorial(n)\n",
    "    y=factorial(n-r)\n",
    "    z=factorial(r)\n",
    "    return x/(z*y)"
   ]
  },
  {
   "cell_type": "code",
   "execution_count": 20,
   "metadata": {},
   "outputs": [
    {
     "data": {
      "text/plain": [
       "120.0"
      ]
     },
     "execution_count": 20,
     "metadata": {},
     "output_type": "execute_result"
    }
   ],
   "source": [
    "c(10,7)"
   ]
  },
  {
   "cell_type": "code",
   "execution_count": 21,
   "metadata": {},
   "outputs": [
    {
     "name": "stdout",
     "output_type": "stream",
     "text": [
      "enter the number08\n",
      "1000\n"
     ]
    }
   ],
   "source": [
    "#5.decimal to binary\n",
    "s=int(input(\"enter the number\"))\n",
    "l=\"\"\n",
    "w=\"\"\n",
    "while s>0:\n",
    "    x=s%2\n",
    "    l=l+str(x)\n",
    "    s=int(s/2)\n",
    "for i in l:\n",
    "    w=i+w\n",
    "print(w)"
   ]
  },
  {
   "cell_type": "code",
   "execution_count": 22,
   "metadata": {},
   "outputs": [],
   "source": [
    "#6.1 sums cube of individual digit of numer\n",
    "def cubesum(n):\n",
    "    k=str(n)\n",
    "    x=len(k)\n",
    "    l=list(k)\n",
    "    cube=0\n",
    "    for i in l:\n",
    "        cube=cube+(int(i)**3)\n",
    "    return cube"
   ]
  },
  {
   "cell_type": "code",
   "execution_count": 23,
   "metadata": {},
   "outputs": [
    {
     "data": {
      "text/plain": [
       "27"
      ]
     },
     "execution_count": 23,
     "metadata": {},
     "output_type": "execute_result"
    }
   ],
   "source": [
    "cubesum(3)"
   ]
  },
  {
   "cell_type": "code",
   "execution_count": 24,
   "metadata": {},
   "outputs": [],
   "source": [
    "#6.2 to print armstrong no. in given range\n",
    "def PrintArmstrong(ll,ul):\n",
    "    if ll and ul<=1000:\n",
    "        for i in range(ll,ul+1):\n",
    "            x=cubesum(i)\n",
    "            if x==i:\n",
    "                print(x)    \n",
    "    else:\n",
    "        print(\"error:Please enter upper and lower limit within 3 digit range only\")\n",
    "    "
   ]
  },
  {
   "cell_type": "code",
   "execution_count": 26,
   "metadata": {},
   "outputs": [
    {
     "name": "stdout",
     "output_type": "stream",
     "text": [
      "1\n",
      "153\n",
      "370\n",
      "371\n",
      "407\n"
     ]
    }
   ],
   "source": [
    "PrintArmstrong(1,1000)"
   ]
  },
  {
   "cell_type": "code",
   "execution_count": 27,
   "metadata": {},
   "outputs": [],
   "source": [
    "#6.3 to find if it is an armstrong number\n",
    "def isArmstrong(n):\n",
    "    y=cubesum(n)\n",
    "    if n==y:\n",
    "        print(n,\"is an armstrong number\")\n",
    "    else:\n",
    "        print(n,\"is not an armstrong number\")\n"
   ]
  },
  {
   "cell_type": "code",
   "execution_count": 28,
   "metadata": {},
   "outputs": [
    {
     "name": "stdout",
     "output_type": "stream",
     "text": [
      "154 is not an armstrong number\n"
     ]
    }
   ],
   "source": [
    "isArmstrong(154)"
   ]
  },
  {
   "cell_type": "code",
   "execution_count": 1,
   "metadata": {},
   "outputs": [],
   "source": [
    "#7.Product of digits in a string\n",
    "def prodDigits(n):\n",
    "    k=str(n)\n",
    "    l=list(k)\n",
    "    m=1\n",
    "    for i in l:\n",
    "        m=m*int(i)\n",
    "    return m"
   ]
  },
  {
   "cell_type": "code",
   "execution_count": 30,
   "metadata": {},
   "outputs": [
    {
     "data": {
      "text/plain": [
       "20"
      ]
     },
     "execution_count": 30,
     "metadata": {},
     "output_type": "execute_result"
    }
   ],
   "source": [
    "prodDigits(154)"
   ]
  },
  {
   "cell_type": "code",
   "execution_count": 18,
   "metadata": {},
   "outputs": [],
   "source": [
    "#8.MDR\n",
    "def MDR(n):\n",
    "    k=len(str(n))\n",
    "    l=list(str(n))\n",
    "    if k==1:\n",
    "        print(\"MDR:\",n)\n",
    "    else:\n",
    "        while(k>1):\n",
    "            mul=prodDigits(n)\n",
    "            k=len(str(mul))\n",
    "            n=mul\n",
    "        print(\"MDR:\",mul)  \n",
    "        \n",
    "            \n",
    "        \n",
    "   "
   ]
  },
  {
   "cell_type": "code",
   "execution_count": 19,
   "metadata": {},
   "outputs": [
    {
     "name": "stdout",
     "output_type": "stream",
     "text": [
      "MDR: 2\n"
     ]
    }
   ],
   "source": [
    "MDR(341)"
   ]
  },
  {
   "cell_type": "code",
   "execution_count": 15,
   "metadata": {},
   "outputs": [],
   "source": [
    "#8.2 MPersistence\n",
    "def MPersistence(n):\n",
    "    k=len(str(n))\n",
    "    count=0\n",
    "    l=list(str(n))\n",
    "    if k==1:\n",
    "        print(\"MPersistence\",0)\n",
    "    else:\n",
    "        while(k>1):\n",
    "            count+=1\n",
    "            mul=prodDigits(n)\n",
    "            k=len(str(mul))\n",
    "            n=mul\n",
    "        print(\"MPersistence:\",count)  "
   ]
  },
  {
   "cell_type": "code",
   "execution_count": 16,
   "metadata": {},
   "outputs": [
    {
     "name": "stdout",
     "output_type": "stream",
     "text": [
      "MPersistence: 2\n"
     ]
    }
   ],
   "source": [
    "MPersistence(342)"
   ]
  },
  {
   "cell_type": "code",
   "execution_count": 21,
   "metadata": {},
   "outputs": [],
   "source": [
    "#9.Sum of proper divisors of number\n",
    "def sumPdivisors(n):\n",
    "    sum_p=0\n",
    "    for i in range(1,n):\n",
    "        if n%i==0:\n",
    "             sum_p+=i   \n",
    "    return sum_p"
   ]
  },
  {
   "cell_type": "code",
   "execution_count": 32,
   "metadata": {},
   "outputs": [
    {
     "data": {
      "text/plain": [
       "55"
      ]
     },
     "execution_count": 32,
     "metadata": {},
     "output_type": "execute_result"
    }
   ],
   "source": [
    "sumPdivisors(36)"
   ]
  },
  {
   "cell_type": "code",
   "execution_count": 22,
   "metadata": {},
   "outputs": [],
   "source": [
    "#10.to find perfect number i.e sum of all divisor equal to that number\n",
    "\n",
    "def Perfect_no(ll,ul):\n",
    "    for i in range(ll,ul+1):\n",
    "            x=sumPdivisors(i)\n",
    "            if x==i:\n",
    "                print(x) \n",
    "    \n",
    "        \n",
    "   \n",
    "        "
   ]
  },
  {
   "cell_type": "code",
   "execution_count": 23,
   "metadata": {},
   "outputs": [
    {
     "name": "stdout",
     "output_type": "stream",
     "text": [
      "6\n",
      "28\n",
      "496\n"
     ]
    }
   ],
   "source": [
    "Perfect_no(1,1000)"
   ]
  },
  {
   "cell_type": "code",
   "execution_count": 24,
   "metadata": {},
   "outputs": [],
   "source": [
    "#11. amicable numbers i.e sum of proper divisor is equal to other number\n",
    "def amicable(x,y):\n",
    "    a=sumPdivisors(x)\n",
    "    b=sumPdivisors(y)\n",
    "    if a==y and b==x:\n",
    "        print(\"They are amicable numbers\")\n",
    "    else:\n",
    "        print(\"They are not amicable numbers\")"
   ]
  },
  {
   "cell_type": "code",
   "execution_count": 25,
   "metadata": {},
   "outputs": [
    {
     "name": "stdout",
     "output_type": "stream",
     "text": [
      "They are amicable numbers\n"
     ]
    }
   ],
   "source": [
    "amicable(220,284)"
   ]
  },
  {
   "cell_type": "code",
   "execution_count": 33,
   "metadata": {},
   "outputs": [
    {
     "name": "stdout",
     "output_type": "stream",
     "text": [
      "enter size of list:5\n",
      "1\n",
      "2\n",
      "3\n",
      "4\n",
      "5\n",
      "[2, 4]\n"
     ]
    }
   ],
   "source": [
    "#12.filter odd number using filter function\n",
    "n=int(input(\"enter size of list:\"))\n",
    "l=[]\n",
    "nl=[]\n",
    "for i in range(n):\n",
    "    l.append(int(input()))\n",
    "def filter_odd(x):\n",
    "    if x%2==0:\n",
    "        return x\n",
    "even_no_list=list(filter(filter_odd,l))\n",
    "print(even_no_list)\n",
    "        "
   ]
  },
  {
   "cell_type": "code",
   "execution_count": 34,
   "metadata": {},
   "outputs": [
    {
     "name": "stdout",
     "output_type": "stream",
     "text": [
      "enter size of list:5\n",
      "1\n",
      "2\n",
      "3\n",
      "4\n",
      "5\n",
      "[1, 8, 27, 64, 125]\n"
     ]
    }
   ],
   "source": [
    "#13.map function to apply cube function\n",
    "n=int(input(\"enter size of list:\"))\n",
    "l=[]\n",
    "for i in range(n):\n",
    "    l.append(int(input()))\n",
    "def cube(x):\n",
    "    return x**3\n",
    "cubes=list(map(cube,l))\n",
    "print(cubes)"
   ]
  },
  {
   "cell_type": "code",
   "execution_count": 35,
   "metadata": {},
   "outputs": [
    {
     "name": "stdout",
     "output_type": "stream",
     "text": [
      "enter size of list:5\n",
      "1\n",
      "2\n",
      "3\n",
      "4\n",
      "5\n",
      "[2, 4] are the even numbers found using filter function\n",
      "[8, 64] are the cube of numbers using map function\n"
     ]
    }
   ],
   "source": [
    "#14.using map and filter function\n",
    "n=int(input(\"enter size of list:\"))\n",
    "l=[]\n",
    "nl=[]\n",
    "for i in range(n):\n",
    "    l.append(int(input()))\n",
    "def filter_odd(x):\n",
    "    if x%2==0:\n",
    "        return x\n",
    "even_no_list=list(filter(filter_odd,l))\n",
    "print(even_no_list,\"are the even numbers found using filter function\")\n",
    "def cube(x):\n",
    "    return x**3\n",
    "cubes=list(map(cube,even_no_list))\n",
    "print(cubes,\"are the cube of numbers using map function\")"
   ]
  },
  {
   "cell_type": "code",
   "execution_count": null,
   "metadata": {},
   "outputs": [],
   "source": []
  }
 ],
 "metadata": {
  "kernelspec": {
   "display_name": "Python 3",
   "language": "python",
   "name": "python3"
  },
  "language_info": {
   "codemirror_mode": {
    "name": "ipython",
    "version": 3
   },
   "file_extension": ".py",
   "mimetype": "text/x-python",
   "name": "python",
   "nbconvert_exporter": "python",
   "pygments_lexer": "ipython3",
   "version": "3.6.4"
  }
 },
 "nbformat": 4,
 "nbformat_minor": 2
}
